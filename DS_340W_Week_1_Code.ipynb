{
  "metadata": {
    "kernelspec": {
      "language": "python",
      "display_name": "Python 3",
      "name": "python3"
    },
    "language_info": {
      "name": "python",
      "version": "3.10.12",
      "mimetype": "text/x-python",
      "codemirror_mode": {
        "name": "ipython",
        "version": 3
      },
      "pygments_lexer": "ipython3",
      "nbconvert_exporter": "python",
      "file_extension": ".py"
    },
    "kaggle": {
      "accelerator": "none",
      "dataSources": [
        {
          "sourceId": 421248,
          "sourceType": "datasetVersion",
          "datasetId": 188596
        }
      ],
      "isInternetEnabled": false,
      "language": "python",
      "sourceType": "notebook",
      "isGpuEnabled": false
    },
    "colab": {
      "name": "DS 340W Week 1: Code",
      "provenance": [],
      "include_colab_link": true
    }
  },
  "nbformat_minor": 0,
  "nbformat": 4,
  "cells": [
    {
      "cell_type": "markdown",
      "metadata": {
        "id": "view-in-github",
        "colab_type": "text"
      },
      "source": [
        "<a href=\"https://colab.research.google.com/github/grlee1128/DS340W/blob/main/DS_340W_Week_1_Code.ipynb\" target=\"_parent\"><img src=\"https://colab.research.google.com/assets/colab-badge.svg\" alt=\"Open In Colab\"/></a>"
      ]
    },
    {
      "source": [
        "# IMPORTANT: RUN THIS CELL IN ORDER TO IMPORT YOUR KAGGLE DATA SOURCES,\n",
        "# THEN FEEL FREE TO DELETE THIS CELL.\n",
        "# NOTE: THIS NOTEBOOK ENVIRONMENT DIFFERS FROM KAGGLE'S PYTHON\n",
        "# ENVIRONMENT SO THERE MAY BE MISSING LIBRARIES USED BY YOUR\n",
        "# NOTEBOOK.\n",
        "import kagglehub\n",
        "rohitrox_healthcare_provider_fraud_detection_analysis_path = kagglehub.dataset_download('rohitrox/healthcare-provider-fraud-detection-analysis')\n",
        "\n",
        "print('Data source import complete.')\n"
      ],
      "metadata": {
        "id": "rHTK8_jYgDZB"
      },
      "cell_type": "code",
      "outputs": [],
      "execution_count": null
    },
    {
      "cell_type": "code",
      "source": [
        "#import libraries that needed\n",
        "\n",
        "#libraries for data manipulation\n",
        "import numpy as np # linear algebra\n",
        "import pandas as pd\n",
        "from datetime import datetime\n",
        "\n",
        "#libraries for visualization\n",
        "import matplotlib.pyplot as plt\n",
        "import seaborn as sns\n",
        "import plotly.express as px\n",
        "\n",
        "#libraries for statistics\n",
        "from scipy.stats import chi2_contingency\n",
        "\n",
        "#libraries for modelling\n",
        "#preprocessing\n",
        "from sklearn.model_selection import train_test_split, cross_val_score, StratifiedKFold, RandomizedSearchCV\n",
        "from sklearn.pipeline import Pipeline\n",
        "from imblearn.pipeline import Pipeline as imbpipeline\n",
        "from sklearn.compose import ColumnTransformer\n",
        "from sklearn.impute import SimpleImputer\n",
        "from category_encoders.binary import BinaryEncoder\n",
        "from sklearn.preprocessing import RobustScaler, PolynomialFeatures\n",
        "from imblearn.over_sampling import SMOTE\n",
        "#machine learning\n",
        "import tensorflow as tf\n",
        "from sklearn.naive_bayes import GaussianNB\n",
        "from sklearn.ensemble import RandomForestClassifier\n",
        "from sklearn.tree import DecisionTreeClassifier\n",
        "from sklearn.neighbors import KNeighborsClassifier\n",
        "from sklearn.linear_model import LogisticRegression\n",
        "#evaluation\n",
        "from sklearn.metrics import f1_score\n",
        "\n",
        "#library for preventing warnings\n",
        "import warnings\n",
        "warnings.filterwarnings('ignore')\n"
      ],
      "metadata": {
        "_uuid": "8f2839f25d086af736a60e9eeb907d3b93b6e0e5",
        "_cell_guid": "b1076dfc-b9ad-4769-8c92-a6c4dae69d19",
        "execution": {
          "iopub.status.busy": "2025-01-27T01:15:03.703093Z",
          "iopub.execute_input": "2025-01-27T01:15:03.703547Z",
          "iopub.status.idle": "2025-01-27T01:15:03.713666Z",
          "shell.execute_reply.started": "2025-01-27T01:15:03.703509Z",
          "shell.execute_reply": "2025-01-27T01:15:03.712185Z"
        },
        "trusted": true,
        "id": "j48FtqY8gDZF"
      },
      "outputs": [],
      "execution_count": null
    },
    {
      "cell_type": "markdown",
      "source": [
        "#### Fraud is an illegal transaction that will harm every stakeholder, include consumers and providers. This action can be happened in the Healthcare Industry. Preventing fraud is necessary so they will not get further disadvantages. Based on Excellent in Social Security, in the Republic of Korea, the National Health Insurance Service (NHIS) has developed a fraud detection system based on health care big data, which includes socio-demographic, disease and treatment history variables. (https://ww1.issa.int/analysis/detecting-fraud-health-care-through-emerging-technologies)\n",
        "\n",
        "#### The ability from data mining and machine learning had been showing its predicting potential of fraud.\n"
      ],
      "metadata": {
        "id": "fDfhV2vZgDZF"
      }
    },
    {
      "cell_type": "markdown",
      "source": [
        "## LOAD DATA"
      ],
      "metadata": {
        "id": "-k7XAOnGgDZG"
      }
    },
    {
      "cell_type": "code",
      "source": [
        "# Load Train Dataset\n",
        "\n",
        "Train=pd.read_csv(\"../input/healthcare-provider-fraud-detection-analysis/Train-1542865627584.csv\")\n",
        "Train_Beneficiarydata=pd.read_csv(\"../input/healthcare-provider-fraud-detection-analysis/Train_Beneficiarydata-1542865627584.csv\")\n",
        "Train_Inpatientdata=pd.read_csv(\"../input/healthcare-provider-fraud-detection-analysis/Train_Inpatientdata-1542865627584.csv\")\n",
        "Train_Outpatientdata=pd.read_csv(\"../input/healthcare-provider-fraud-detection-analysis/Train_Outpatientdata-1542865627584.csv\")\n",
        "\n",
        "# Load Test Dataset\n",
        "\n",
        "Test=pd.read_csv(\"../input/healthcare-provider-fraud-detection-analysis/Test-1542969243754.csv\")\n",
        "Test_Beneficiarydata=pd.read_csv(\"../input/healthcare-provider-fraud-detection-analysis/Test_Beneficiarydata-1542969243754.csv\")\n",
        "Test_Inpatientdata=pd.read_csv(\"../input/healthcare-provider-fraud-detection-analysis/Test_Inpatientdata-1542969243754.csv\")\n",
        "Test_Outpatientdata=pd.read_csv(\"../input/healthcare-provider-fraud-detection-analysis/Test_Outpatientdata-1542969243754.csv\")\n"
      ],
      "metadata": {
        "execution": {
          "iopub.status.busy": "2025-01-27T01:15:03.71535Z",
          "iopub.execute_input": "2025-01-27T01:15:03.715795Z",
          "iopub.status.idle": "2025-01-27T01:15:09.10585Z",
          "shell.execute_reply.started": "2025-01-27T01:15:03.715761Z",
          "shell.execute_reply": "2025-01-27T01:15:09.10423Z"
        },
        "trusted": true,
        "id": "fazp-f-qgDZH"
      },
      "outputs": [],
      "execution_count": null
    },
    {
      "cell_type": "code",
      "source": [
        "## Get information of aligndatasets\n",
        "\n",
        "print('Info of Train data :')\n",
        "Train.info()\n",
        "print('\\n------------------------------------------------------------------------------------\\n')\n",
        "print('Info of Train_Beneficiarydata data :')\n",
        "Train_Beneficiarydata.info()\n",
        "print('\\n------------------------------------------------------------------------------------\\n')\n",
        "print('Info of Train_Inpatientdata data :')\n",
        "Train_Inpatientdata.info()\n",
        "print('\\n------------------------------------------------------------------------------------\\n')\n",
        "print('Info of Train_Outpatientdata data :')\n",
        "Train_Outpatientdata.info()\n",
        "print('\\n------------------------------------------------------------------------------------\\n')\n",
        "print('Info of Test data :')\n",
        "Test.info()\n",
        "print('\\n------------------------------------------------------------------------------------\\n')\n",
        "print('Info of Test_Beneficiarydata data :')\n",
        "Test_Beneficiarydata.info()\n",
        "print('\\n------------------------------------------------------------------------------------\\n')\n",
        "print('Info of Test_Inpatientdata data :')\n",
        "Test_Inpatientdata.info()\n",
        "print('\\n------------------------------------------------------------------------------------\\n')\n",
        "print('Info of Test_Outpatientdata data :')\n",
        "Test_Outpatientdata.info()"
      ],
      "metadata": {
        "execution": {
          "iopub.status.busy": "2025-01-27T01:15:09.10834Z",
          "iopub.execute_input": "2025-01-27T01:15:09.10915Z",
          "iopub.status.idle": "2025-01-27T01:15:09.799574Z",
          "shell.execute_reply.started": "2025-01-27T01:15:09.109087Z",
          "shell.execute_reply": "2025-01-27T01:15:09.798351Z"
        },
        "trusted": true,
        "id": "hJ1NeANFgDZH"
      },
      "outputs": [],
      "execution_count": null
    },
    {
      "cell_type": "markdown",
      "source": [
        "# Get training Data"
      ],
      "metadata": {
        "id": "ZBzSSVCYgDZI"
      }
    },
    {
      "cell_type": "code",
      "source": [
        "#merge all training data.\n",
        "df_train = Train.merge(Train_Inpatientdata, how = 'left', on = 'Provider')\n",
        "df_train = df_train.merge(Train_Outpatientdata, how = 'left', on = ['Provider', 'BeneID', 'ClaimID'])\n",
        "df_train = df_train.merge(Train_Beneficiarydata, how = 'left', on = 'BeneID')"
      ],
      "metadata": {
        "execution": {
          "iopub.status.busy": "2025-01-27T01:15:09.801283Z",
          "iopub.execute_input": "2025-01-27T01:15:09.80161Z",
          "iopub.status.idle": "2025-01-27T01:15:10.703768Z",
          "shell.execute_reply.started": "2025-01-27T01:15:09.801583Z",
          "shell.execute_reply": "2025-01-27T01:15:10.702556Z"
        },
        "trusted": true,
        "id": "5qi7DmZvgDZI"
      },
      "outputs": [],
      "execution_count": null
    },
    {
      "cell_type": "code",
      "source": [
        "df_train.shape"
      ],
      "metadata": {
        "execution": {
          "iopub.status.busy": "2025-01-27T01:15:10.704918Z",
          "iopub.execute_input": "2025-01-27T01:15:10.705289Z",
          "iopub.status.idle": "2025-01-27T01:15:10.713684Z",
          "shell.execute_reply.started": "2025-01-27T01:15:10.70526Z",
          "shell.execute_reply": "2025-01-27T01:15:10.7123Z"
        },
        "trusted": true,
        "id": "op1CynmigDZI"
      },
      "outputs": [],
      "execution_count": null
    },
    {
      "cell_type": "code",
      "source": [
        "df_train.info()"
      ],
      "metadata": {
        "execution": {
          "iopub.status.busy": "2025-01-27T01:15:10.715053Z",
          "iopub.execute_input": "2025-01-27T01:15:10.715509Z",
          "iopub.status.idle": "2025-01-27T01:15:10.837736Z",
          "shell.execute_reply.started": "2025-01-27T01:15:10.715447Z",
          "shell.execute_reply": "2025-01-27T01:15:10.836244Z"
        },
        "trusted": true,
        "id": "sm3rB6JUgDZJ"
      },
      "outputs": [],
      "execution_count": null
    },
    {
      "cell_type": "markdown",
      "source": [
        "# Add Num of Claims Features"
      ],
      "metadata": {
        "id": "_-FuFew0gDZJ"
      }
    },
    {
      "cell_type": "code",
      "source": [
        "# Assign claim to 1 and null claim to 0\n",
        "df_train[['ClmDiagnosisCode_1_x', 'ClmDiagnosisCode_2_x', 'ClmDiagnosisCode_3_x', 'ClmDiagnosisCode_4_x', 'ClmDiagnosisCode_5_x', 'ClmDiagnosisCode_6_x', 'ClmDiagnosisCode_7_x', 'ClmDiagnosisCode_8_x', 'ClmDiagnosisCode_9_x', 'ClmDiagnosisCode_10_x']] = df_train[['ClmDiagnosisCode_1_x', 'ClmDiagnosisCode_2_x', 'ClmDiagnosisCode_3_x', 'ClmDiagnosisCode_4_x', 'ClmDiagnosisCode_5_x', 'ClmDiagnosisCode_6_x', 'ClmDiagnosisCode_7_x', 'ClmDiagnosisCode_8_x', 'ClmDiagnosisCode_9_x', 'ClmDiagnosisCode_10_x']].where(~df_train[['ClmDiagnosisCode_1_x', 'ClmDiagnosisCode_2_x', 'ClmDiagnosisCode_3_x', 'ClmDiagnosisCode_4_x', 'ClmDiagnosisCode_5_x', 'ClmDiagnosisCode_6_x', 'ClmDiagnosisCode_7_x', 'ClmDiagnosisCode_8_x', 'ClmDiagnosisCode_9_x', 'ClmDiagnosisCode_10_x']].notna(), 1)\n",
        "df_train[['ClmDiagnosisCode_1_x', 'ClmDiagnosisCode_2_x', 'ClmDiagnosisCode_3_x', 'ClmDiagnosisCode_4_x', 'ClmDiagnosisCode_5_x', 'ClmDiagnosisCode_6_x', 'ClmDiagnosisCode_7_x', 'ClmDiagnosisCode_8_x', 'ClmDiagnosisCode_9_x', 'ClmDiagnosisCode_10_x']] = df_train[['ClmDiagnosisCode_1_x', 'ClmDiagnosisCode_2_x', 'ClmDiagnosisCode_3_x', 'ClmDiagnosisCode_4_x', 'ClmDiagnosisCode_5_x', 'ClmDiagnosisCode_6_x', 'ClmDiagnosisCode_7_x', 'ClmDiagnosisCode_8_x', 'ClmDiagnosisCode_9_x', 'ClmDiagnosisCode_10_x']].where(df_train[['ClmDiagnosisCode_1_x', 'ClmDiagnosisCode_2_x', 'ClmDiagnosisCode_3_x', 'ClmDiagnosisCode_4_x', 'ClmDiagnosisCode_5_x', 'ClmDiagnosisCode_6_x', 'ClmDiagnosisCode_7_x', 'ClmDiagnosisCode_8_x', 'ClmDiagnosisCode_9_x', 'ClmDiagnosisCode_10_x']].notna(), 0)\n",
        "\n",
        "#change type of columns from string into int\n",
        "df_train[['ClmDiagnosisCode_1_x', 'ClmDiagnosisCode_2_x', 'ClmDiagnosisCode_3_x', 'ClmDiagnosisCode_4_x', 'ClmDiagnosisCode_5_x', 'ClmDiagnosisCode_6_x', 'ClmDiagnosisCode_7_x', 'ClmDiagnosisCode_8_x', 'ClmDiagnosisCode_9_x', 'ClmDiagnosisCode_10_x']] = df_train[['ClmDiagnosisCode_1_x', 'ClmDiagnosisCode_2_x', 'ClmDiagnosisCode_3_x', 'ClmDiagnosisCode_4_x', 'ClmDiagnosisCode_5_x', 'ClmDiagnosisCode_6_x', 'ClmDiagnosisCode_7_x', 'ClmDiagnosisCode_8_x', 'ClmDiagnosisCode_9_x', 'ClmDiagnosisCode_10_x']].astype('int64')\n",
        "\n",
        "# Sum number of claims\n",
        "claim_diagnose = []\n",
        "\n",
        "for i in range(len(df_train)):\n",
        "    claim_diagnose.append(df_train['ClmDiagnosisCode_1_x'][i]+ df_train['ClmDiagnosisCode_2_x'][i]+ df_train['ClmDiagnosisCode_3_x'][i]+ df_train['ClmDiagnosisCode_4_x'][i]+ df_train['ClmDiagnosisCode_5_x'][i]+ df_train['ClmDiagnosisCode_6_x'][i]+ df_train['ClmDiagnosisCode_7_x'][i]+df_train['ClmDiagnosisCode_8_x'][i]+  df_train['ClmDiagnosisCode_9_x'][i]+ df_train['ClmDiagnosisCode_10_x'][i])\n",
        "\n",
        "#Put into a column.\n",
        "df_train['num_claim_diagnose_in'] = claim_diagnose\n",
        "\n",
        "#drop columns of claim code.\n",
        "df_train.drop(columns = ['ClmDiagnosisCode_1_x', 'ClmDiagnosisCode_2_x', 'ClmDiagnosisCode_3_x', 'ClmDiagnosisCode_4_x', 'ClmDiagnosisCode_5_x', 'ClmDiagnosisCode_6_x', 'ClmDiagnosisCode_7_x', 'ClmDiagnosisCode_8_x', 'ClmDiagnosisCode_9_x', 'ClmDiagnosisCode_10_x'], axis = 1, inplace = True)"
      ],
      "metadata": {
        "execution": {
          "iopub.status.busy": "2025-01-27T01:15:10.840528Z",
          "iopub.execute_input": "2025-01-27T01:15:10.840885Z",
          "iopub.status.idle": "2025-01-27T01:15:13.499043Z",
          "shell.execute_reply.started": "2025-01-27T01:15:10.840858Z",
          "shell.execute_reply": "2025-01-27T01:15:13.497864Z"
        },
        "trusted": true,
        "id": "l_6fsn4NgDZJ"
      },
      "outputs": [],
      "execution_count": null
    },
    {
      "cell_type": "code",
      "source": [
        "# Assign claim to 1 and null claim to 0\n",
        "df_train[['ClmDiagnosisCode_1_y', 'ClmDiagnosisCode_2_y', 'ClmDiagnosisCode_3_y', 'ClmDiagnosisCode_4_y', 'ClmDiagnosisCode_5_y', 'ClmDiagnosisCode_6_y', 'ClmDiagnosisCode_7_y', 'ClmDiagnosisCode_8_y', 'ClmDiagnosisCode_9_y', 'ClmDiagnosisCode_10_y']] = df_train[['ClmDiagnosisCode_1_y', 'ClmDiagnosisCode_2_y', 'ClmDiagnosisCode_3_y', 'ClmDiagnosisCode_4_y', 'ClmDiagnosisCode_5_y', 'ClmDiagnosisCode_6_y', 'ClmDiagnosisCode_7_y', 'ClmDiagnosisCode_8_y', 'ClmDiagnosisCode_9_y', 'ClmDiagnosisCode_10_y']].where(~df_train[['ClmDiagnosisCode_1_y', 'ClmDiagnosisCode_2_y', 'ClmDiagnosisCode_3_y', 'ClmDiagnosisCode_4_y', 'ClmDiagnosisCode_5_y', 'ClmDiagnosisCode_6_y', 'ClmDiagnosisCode_7_y', 'ClmDiagnosisCode_8_y', 'ClmDiagnosisCode_9_y', 'ClmDiagnosisCode_10_y']].notna(), 1)\n",
        "df_train[['ClmDiagnosisCode_1_y', 'ClmDiagnosisCode_2_y', 'ClmDiagnosisCode_3_y', 'ClmDiagnosisCode_4_y', 'ClmDiagnosisCode_5_y', 'ClmDiagnosisCode_6_y', 'ClmDiagnosisCode_7_y', 'ClmDiagnosisCode_8_y', 'ClmDiagnosisCode_9_y', 'ClmDiagnosisCode_10_y']] = df_train[['ClmDiagnosisCode_1_y', 'ClmDiagnosisCode_2_y', 'ClmDiagnosisCode_3_y', 'ClmDiagnosisCode_4_y', 'ClmDiagnosisCode_5_y', 'ClmDiagnosisCode_6_y', 'ClmDiagnosisCode_7_y', 'ClmDiagnosisCode_8_y', 'ClmDiagnosisCode_9_y', 'ClmDiagnosisCode_10_y']].where(df_train[['ClmDiagnosisCode_1_y', 'ClmDiagnosisCode_2_y', 'ClmDiagnosisCode_3_y', 'ClmDiagnosisCode_4_y', 'ClmDiagnosisCode_5_y', 'ClmDiagnosisCode_6_y', 'ClmDiagnosisCode_7_y', 'ClmDiagnosisCode_8_y', 'ClmDiagnosisCode_9_y', 'ClmDiagnosisCode_10_y']].notna(), 0)\n",
        "\n",
        "#change type of columns from string into int\n",
        "df_train[['ClmDiagnosisCode_1_y', 'ClmDiagnosisCode_2_y', 'ClmDiagnosisCode_3_y', 'ClmDiagnosisCode_4_y', 'ClmDiagnosisCode_5_y', 'ClmDiagnosisCode_6_y', 'ClmDiagnosisCode_7_y', 'ClmDiagnosisCode_8_y', 'ClmDiagnosisCode_9_y', 'ClmDiagnosisCode_10_y']] = df_train[['ClmDiagnosisCode_1_y', 'ClmDiagnosisCode_2_y', 'ClmDiagnosisCode_3_y', 'ClmDiagnosisCode_4_y', 'ClmDiagnosisCode_5_y', 'ClmDiagnosisCode_6_y', 'ClmDiagnosisCode_7_y', 'ClmDiagnosisCode_8_y', 'ClmDiagnosisCode_9_y', 'ClmDiagnosisCode_10_y']].astype('int64')\n",
        "\n",
        "# Sum number of claims\n",
        "claim_diagnose = []\n",
        "\n",
        "for i in range(len(df_train)):\n",
        "    claim_diagnose.append(df_train['ClmDiagnosisCode_1_y'][i]+ df_train['ClmDiagnosisCode_2_y'][i]+ df_train['ClmDiagnosisCode_3_y'][i]+ df_train['ClmDiagnosisCode_4_y'][i]+ df_train['ClmDiagnosisCode_5_y'][i]+ df_train['ClmDiagnosisCode_6_y'][i]+ df_train['ClmDiagnosisCode_7_y'][i]+df_train['ClmDiagnosisCode_8_y'][i]+  df_train['ClmDiagnosisCode_9_y'][i]+ df_train['ClmDiagnosisCode_10_y'][i])\n",
        "\n",
        "#Put into a column.\n",
        "df_train['num_claim_diagnose_out'] = claim_diagnose\n",
        "\n",
        "#drop columns of claim code.\n",
        "df_train.drop(columns = ['ClmDiagnosisCode_1_y', 'ClmDiagnosisCode_2_y', 'ClmDiagnosisCode_3_y', 'ClmDiagnosisCode_4_y', 'ClmDiagnosisCode_5_y', 'ClmDiagnosisCode_6_y', 'ClmDiagnosisCode_7_y', 'ClmDiagnosisCode_8_y', 'ClmDiagnosisCode_9_y', 'ClmDiagnosisCode_10_y'], axis = 1, inplace = True)"
      ],
      "metadata": {
        "execution": {
          "iopub.status.busy": "2025-01-27T01:15:13.501301Z",
          "iopub.execute_input": "2025-01-27T01:15:13.501657Z",
          "iopub.status.idle": "2025-01-27T01:15:16.155254Z",
          "shell.execute_reply.started": "2025-01-27T01:15:13.501628Z",
          "shell.execute_reply": "2025-01-27T01:15:16.154148Z"
        },
        "trusted": true,
        "id": "BlghZ2cKgDZK"
      },
      "outputs": [],
      "execution_count": null
    },
    {
      "cell_type": "code",
      "source": [
        "# Assign claim to 1 and null claim to 0\n",
        "df_train[['ClmProcedureCode_1_x', 'ClmProcedureCode_2_x', 'ClmProcedureCode_3_x', 'ClmProcedureCode_4_x', 'ClmProcedureCode_5_x']] = df_train[['ClmProcedureCode_1_x', 'ClmProcedureCode_2_x', 'ClmProcedureCode_3_x', 'ClmProcedureCode_4_x', 'ClmProcedureCode_5_x']].where(~df_train[['ClmProcedureCode_1_x', 'ClmProcedureCode_2_x', 'ClmProcedureCode_3_x', 'ClmProcedureCode_4_x', 'ClmProcedureCode_5_x']].notna(), 1)\n",
        "df_train[['ClmProcedureCode_1_x', 'ClmProcedureCode_2_x', 'ClmProcedureCode_3_x', 'ClmProcedureCode_4_x', 'ClmProcedureCode_5_x']] = df_train[['ClmProcedureCode_1_x', 'ClmProcedureCode_2_x', 'ClmProcedureCode_3_x', 'ClmProcedureCode_4_x', 'ClmProcedureCode_5_x']].where(df_train[['ClmProcedureCode_1_x', 'ClmProcedureCode_2_x', 'ClmProcedureCode_3_x', 'ClmProcedureCode_4_x', 'ClmProcedureCode_5_x']].notna(), 0)\n",
        "\n",
        "#change type of columns from string into int\n",
        "df_train[['ClmProcedureCode_1_x', 'ClmProcedureCode_2_x', 'ClmProcedureCode_3_x', 'ClmProcedureCode_4_x', 'ClmProcedureCode_5_x']] = df_train[['ClmProcedureCode_1_x', 'ClmProcedureCode_2_x', 'ClmProcedureCode_3_x', 'ClmProcedureCode_4_x', 'ClmProcedureCode_5_x']].astype('int64')\n",
        "\n",
        "# Sum number of claims\n",
        "claim_procedure = []\n",
        "\n",
        "for i in range(len(df_train)):\n",
        "    claim_procedure.append(df_train['ClmProcedureCode_1_x'][i]+ df_train['ClmProcedureCode_2_x'][i]+ df_train['ClmProcedureCode_3_x'][i]+ df_train['ClmProcedureCode_4_x'][i]+ df_train['ClmProcedureCode_5_x'][i])\n",
        "\n",
        "#Put into a column.\n",
        "df_train['num_claim_procedure_in'] = claim_procedure\n",
        "\n",
        "#drop columns of claim code.\n",
        "df_train.drop(columns = ['ClmProcedureCode_1_x', 'ClmProcedureCode_2_x', 'ClmProcedureCode_3_x', 'ClmProcedureCode_4_x', 'ClmProcedureCode_5_x'], axis = 1, inplace = True)"
      ],
      "metadata": {
        "execution": {
          "iopub.status.busy": "2025-01-27T01:15:16.156466Z",
          "iopub.execute_input": "2025-01-27T01:15:16.156828Z",
          "iopub.status.idle": "2025-01-27T01:15:17.578012Z",
          "shell.execute_reply.started": "2025-01-27T01:15:16.156799Z",
          "shell.execute_reply": "2025-01-27T01:15:17.576173Z"
        },
        "trusted": true,
        "id": "gKTZ1Iz9gDZK"
      },
      "outputs": [],
      "execution_count": null
    },
    {
      "cell_type": "code",
      "source": [
        "# Assign claim to 1 and null claim to 0\n",
        "df_train[['ClmProcedureCode_1_y', 'ClmProcedureCode_2_y', 'ClmProcedureCode_3_y', 'ClmProcedureCode_4_y', 'ClmProcedureCode_5_y']] = df_train[['ClmProcedureCode_1_y', 'ClmProcedureCode_2_y', 'ClmProcedureCode_3_y', 'ClmProcedureCode_4_y', 'ClmProcedureCode_5_y']].where(~df_train[['ClmProcedureCode_1_y', 'ClmProcedureCode_2_y', 'ClmProcedureCode_3_y', 'ClmProcedureCode_4_y', 'ClmProcedureCode_5_y']].notna(), 1)\n",
        "df_train[['ClmProcedureCode_1_y', 'ClmProcedureCode_2_y', 'ClmProcedureCode_3_y', 'ClmProcedureCode_4_y', 'ClmProcedureCode_5_y']] = df_train[['ClmProcedureCode_1_y', 'ClmProcedureCode_2_y', 'ClmProcedureCode_3_y', 'ClmProcedureCode_4_y', 'ClmProcedureCode_5_y']].where(df_train[['ClmProcedureCode_1_y', 'ClmProcedureCode_2_y', 'ClmProcedureCode_3_y', 'ClmProcedureCode_4_y', 'ClmProcedureCode_5_y']].notna(), 0)\n",
        "\n",
        "#change type of columns from string into int\n",
        "df_train[['ClmProcedureCode_1_y', 'ClmProcedureCode_2_y', 'ClmProcedureCode_3_y', 'ClmProcedureCode_4_y', 'ClmProcedureCode_5_y']] = df_train[['ClmProcedureCode_1_y', 'ClmProcedureCode_2_y', 'ClmProcedureCode_3_y', 'ClmProcedureCode_4_y', 'ClmProcedureCode_5_y']].astype('int64')\n",
        "\n",
        "# Sum number of claims\n",
        "claim_procedure = []\n",
        "\n",
        "for i in range(len(df_train)):\n",
        "    claim_procedure.append(df_train['ClmProcedureCode_1_y'][i]+ df_train['ClmProcedureCode_2_y'][i]+ df_train['ClmProcedureCode_3_y'][i]+ df_train['ClmProcedureCode_4_y'][i]+ df_train['ClmProcedureCode_5_y'][i])\n",
        "\n",
        "#Put into a column.\n",
        "df_train['num_claim_procedure_out'] = claim_procedure\n",
        "\n",
        "#drop columns of claim code.\n",
        "df_train.drop(columns = ['ClmProcedureCode_1_y', 'ClmProcedureCode_2_y', 'ClmProcedureCode_3_y', 'ClmProcedureCode_4_y', 'ClmProcedureCode_5_y'], axis = 1, inplace = True)"
      ],
      "metadata": {
        "execution": {
          "iopub.status.busy": "2025-01-27T01:15:17.579791Z",
          "iopub.execute_input": "2025-01-27T01:15:17.580302Z",
          "iopub.status.idle": "2025-01-27T01:15:18.945237Z",
          "shell.execute_reply.started": "2025-01-27T01:15:17.580257Z",
          "shell.execute_reply": "2025-01-27T01:15:18.943933Z"
        },
        "trusted": true,
        "id": "-uuFJUb2gDZK"
      },
      "outputs": [],
      "execution_count": null
    },
    {
      "cell_type": "markdown",
      "source": [
        "# Map Attending columns"
      ],
      "metadata": {
        "id": "_sFROgpygDZK"
      }
    },
    {
      "cell_type": "markdown",
      "source": [
        "#### Attending Physician, Operating Physician, and Other Physician"
      ],
      "metadata": {
        "id": "YuuArcHugDZL"
      }
    },
    {
      "cell_type": "code",
      "source": [
        "df_train[['AttendingPhysician_x', 'OperatingPhysician_x', 'OtherPhysician_x']] = df_train[['AttendingPhysician_x', 'OperatingPhysician_x', 'OtherPhysician_x']].where(~df_train[['AttendingPhysician_x', 'OperatingPhysician_x', 'OtherPhysician_x']].notna(), 1)\n",
        "df_train[['AttendingPhysician_x', 'OperatingPhysician_x', 'OtherPhysician_x']] = df_train[['AttendingPhysician_x', 'OperatingPhysician_x', 'OtherPhysician_x']].where(df_train[['AttendingPhysician_x', 'OperatingPhysician_x', 'OtherPhysician_x']].notna(), 0)\n",
        "df_train[['AttendingPhysician_y', 'OperatingPhysician_y', 'OtherPhysician_y']] = df_train[['AttendingPhysician_y', 'OperatingPhysician_y', 'OtherPhysician_y']].where(~df_train[['AttendingPhysician_y', 'OperatingPhysician_y', 'OtherPhysician_y']].notna(), 1)\n",
        "df_train[['AttendingPhysician_y', 'OperatingPhysician_y', 'OtherPhysician_y']] = df_train[['AttendingPhysician_y', 'OperatingPhysician_y', 'OtherPhysician_y']].where(df_train[['AttendingPhysician_y', 'OperatingPhysician_y', 'OtherPhysician_y']].notna(), 0)\n",
        "\n",
        "df_train[['AttendingPhysician_x', 'OperatingPhysician_x', 'OtherPhysician_x']] = df_train[['AttendingPhysician_x', 'OperatingPhysician_x', 'OtherPhysician_x']].astype('int64')\n",
        "df_train[['AttendingPhysician_y', 'OperatingPhysician_y', 'OtherPhysician_y']] = df_train[['AttendingPhysician_y', 'OperatingPhysician_y', 'OtherPhysician_y']].astype('int64')"
      ],
      "metadata": {
        "execution": {
          "iopub.status.busy": "2025-01-27T01:15:18.946726Z",
          "iopub.execute_input": "2025-01-27T01:15:18.947235Z",
          "iopub.status.idle": "2025-01-27T01:15:19.040247Z",
          "shell.execute_reply.started": "2025-01-27T01:15:18.947189Z",
          "shell.execute_reply": "2025-01-27T01:15:19.038504Z"
        },
        "trusted": true,
        "id": "AmLEfW3_gDZL"
      },
      "outputs": [],
      "execution_count": null
    },
    {
      "cell_type": "markdown",
      "source": [
        "# Mapping Chronic Disease Columns"
      ],
      "metadata": {
        "id": "sMgdMCi5gDZL"
      }
    },
    {
      "cell_type": "code",
      "source": [
        "##Replacing 2 with 0 for chronic conditions ,that means chroniv condition No is 0 and yes is 1\n",
        "\n",
        "df_train = df_train.replace({'ChronicCond_Alzheimer': 2, 'ChronicCond_Heartfailure': 2, 'ChronicCond_KidneyDisease': 2,\n",
        "                           'ChronicCond_Cancer': 2, 'ChronicCond_ObstrPulmonary': 2, 'ChronicCond_Depression': 2,\n",
        "                           'ChronicCond_Diabetes': 2, 'ChronicCond_IschemicHeart': 2, 'ChronicCond_Osteoporasis': 2,\n",
        "                           'ChronicCond_rheumatoidarthritis': 2, 'ChronicCond_stroke': 2 }, 0)\n"
      ],
      "metadata": {
        "execution": {
          "iopub.status.busy": "2025-01-27T01:15:19.041946Z",
          "iopub.execute_input": "2025-01-27T01:15:19.042469Z",
          "iopub.status.idle": "2025-01-27T01:15:19.105299Z",
          "shell.execute_reply.started": "2025-01-27T01:15:19.042427Z",
          "shell.execute_reply": "2025-01-27T01:15:19.103626Z"
        },
        "trusted": true,
        "id": "gQZjHY6igDZL"
      },
      "outputs": [],
      "execution_count": null
    },
    {
      "cell_type": "markdown",
      "source": [
        "# Groupby Provider and Potential Fraud"
      ],
      "metadata": {
        "id": "edAbGZLtgDZL"
      }
    },
    {
      "cell_type": "code",
      "source": [
        "df_train = df_train.groupby(['Provider', 'PotentialFraud'],as_index=False).agg('sum')\n",
        "df_train.drop(columns = ['Gender', 'Race', 'State', 'County'], inplace = True, axis = 1)\n"
      ],
      "metadata": {
        "execution": {
          "iopub.status.busy": "2025-01-27T01:15:19.106817Z",
          "iopub.execute_input": "2025-01-27T01:15:19.10724Z",
          "iopub.status.idle": "2025-01-27T01:15:19.237345Z",
          "shell.execute_reply.started": "2025-01-27T01:15:19.1072Z",
          "shell.execute_reply": "2025-01-27T01:15:19.236051Z"
        },
        "trusted": true,
        "id": "wkOl9U6XgDZL"
      },
      "outputs": [],
      "execution_count": null
    },
    {
      "cell_type": "markdown",
      "source": [
        "# Rename Rest of Inpatient Data Columns"
      ],
      "metadata": {
        "id": "9oMKOuNBgDZL"
      }
    },
    {
      "cell_type": "code",
      "source": [
        "#Assign template to rename columns.\n",
        "name = []\n",
        "temp = []\n",
        "for column in df_train.columns:\n",
        "    if column[-2:] == '_x':\n",
        "        name.append(column)\n",
        "        temp.append(column[:-2] + '_In')"
      ],
      "metadata": {
        "execution": {
          "iopub.status.busy": "2025-01-27T01:15:19.238587Z",
          "iopub.execute_input": "2025-01-27T01:15:19.239052Z",
          "iopub.status.idle": "2025-01-27T01:15:19.244638Z",
          "shell.execute_reply.started": "2025-01-27T01:15:19.239015Z",
          "shell.execute_reply": "2025-01-27T01:15:19.243262Z"
        },
        "trusted": true,
        "id": "y74O5nsSgDZL"
      },
      "outputs": [],
      "execution_count": null
    },
    {
      "cell_type": "code",
      "source": [
        "# Rename column based on template.\n",
        "for i in range(len(name)):\n",
        "    df_train=df_train.rename(columns = {name[i]:temp[i]})"
      ],
      "metadata": {
        "execution": {
          "iopub.status.busy": "2025-01-27T01:15:19.245933Z",
          "iopub.execute_input": "2025-01-27T01:15:19.246295Z",
          "iopub.status.idle": "2025-01-27T01:15:19.279293Z",
          "shell.execute_reply.started": "2025-01-27T01:15:19.246267Z",
          "shell.execute_reply": "2025-01-27T01:15:19.277939Z"
        },
        "trusted": true,
        "id": "oruBbKCqgDZL"
      },
      "outputs": [],
      "execution_count": null
    },
    {
      "cell_type": "code",
      "source": [
        "#Assign template to rename columns.\n",
        "name = []\n",
        "temp = []\n",
        "for column in df_train.columns:\n",
        "    if column[-2:] == '_y':\n",
        "        name.append(column)\n",
        "        temp.append(column[:-2] + '_Out')"
      ],
      "metadata": {
        "execution": {
          "iopub.status.busy": "2025-01-27T01:15:19.280419Z",
          "iopub.execute_input": "2025-01-27T01:15:19.28074Z",
          "iopub.status.idle": "2025-01-27T01:15:19.287407Z",
          "shell.execute_reply.started": "2025-01-27T01:15:19.280715Z",
          "shell.execute_reply": "2025-01-27T01:15:19.28615Z"
        },
        "trusted": true,
        "id": "E-bb6w9agDZL"
      },
      "outputs": [],
      "execution_count": null
    },
    {
      "cell_type": "code",
      "source": [
        "# Rename column based on template.\n",
        "for i in range(len(name)):\n",
        "    df_train=df_train.rename(columns = {name[i]:temp[i]})"
      ],
      "metadata": {
        "execution": {
          "iopub.status.busy": "2025-01-27T01:15:19.288568Z",
          "iopub.execute_input": "2025-01-27T01:15:19.289Z",
          "iopub.status.idle": "2025-01-27T01:15:19.324413Z",
          "shell.execute_reply.started": "2025-01-27T01:15:19.288941Z",
          "shell.execute_reply": "2025-01-27T01:15:19.323249Z"
        },
        "trusted": true,
        "id": "7VYwZEzEgDZL"
      },
      "outputs": [],
      "execution_count": null
    },
    {
      "cell_type": "code",
      "source": [
        "pd.set_option('display.max_columns', None)\n",
        "\n",
        "print('Describe Stats of New Train data :')\n",
        "\n",
        "df_train.describe(include = 'all')\n"
      ],
      "metadata": {
        "execution": {
          "iopub.status.busy": "2025-01-27T01:15:19.325555Z",
          "iopub.execute_input": "2025-01-27T01:15:19.325862Z",
          "iopub.status.idle": "2025-01-27T01:15:19.497888Z",
          "shell.execute_reply.started": "2025-01-27T01:15:19.325837Z",
          "shell.execute_reply": "2025-01-27T01:15:19.49658Z"
        },
        "trusted": true,
        "id": "HETi0yMYgDZL"
      },
      "outputs": [],
      "execution_count": null
    },
    {
      "cell_type": "markdown",
      "source": [
        "# Delete Columns That Only One Value"
      ],
      "metadata": {
        "id": "-ICmTBVqgDZL"
      }
    },
    {
      "cell_type": "code",
      "source": [
        "#Based on descriptive statistics, columns that only one value will be deleted.\n",
        "deleted = []\n",
        "for feature in df_train.columns:\n",
        "    if df_train[feature].nunique() <= 1:\n",
        "        deleted.append(feature)\n",
        "\n",
        "df_train = df_train[[i for i in df_train.columns if i not in deleted]]"
      ],
      "metadata": {
        "execution": {
          "iopub.status.busy": "2025-01-27T01:15:19.502725Z",
          "iopub.execute_input": "2025-01-27T01:15:19.503165Z",
          "iopub.status.idle": "2025-01-27T01:15:19.531006Z",
          "shell.execute_reply.started": "2025-01-27T01:15:19.503129Z",
          "shell.execute_reply": "2025-01-27T01:15:19.529651Z"
        },
        "trusted": true,
        "id": "K0Y80_uhgDZM"
      },
      "outputs": [],
      "execution_count": null
    },
    {
      "cell_type": "code",
      "source": [
        "#check null columns\n",
        "df_train.isnull().sum()"
      ],
      "metadata": {
        "execution": {
          "iopub.status.busy": "2025-01-27T01:15:19.5347Z",
          "iopub.execute_input": "2025-01-27T01:15:19.535143Z",
          "iopub.status.idle": "2025-01-27T01:15:19.552949Z",
          "shell.execute_reply.started": "2025-01-27T01:15:19.535101Z",
          "shell.execute_reply": "2025-01-27T01:15:19.551233Z"
        },
        "trusted": true,
        "id": "AuCgG-hIgDZM"
      },
      "outputs": [],
      "execution_count": null
    },
    {
      "cell_type": "markdown",
      "source": [
        "# Exploratory Data Analysis"
      ],
      "metadata": {
        "id": "rcpx-Xr-gDZM"
      }
    },
    {
      "cell_type": "markdown",
      "source": [
        "## How many difference number of attending, operating, and other physician between fraud and not fraud?"
      ],
      "metadata": {
        "id": "Ki107o84gDZM"
      }
    },
    {
      "cell_type": "code",
      "source": [
        "for feature in df_train.columns:\n",
        "    if feature.split('_')[0][-9:] == 'Physician':\n",
        "        fig = px.histogram(df_train, x=feature, color=\"PotentialFraud\")\n",
        "        fig.show()"
      ],
      "metadata": {
        "execution": {
          "iopub.status.busy": "2025-01-27T01:15:19.554456Z",
          "iopub.execute_input": "2025-01-27T01:15:19.554957Z",
          "iopub.status.idle": "2025-01-27T01:15:19.757274Z",
          "shell.execute_reply.started": "2025-01-27T01:15:19.554913Z",
          "shell.execute_reply": "2025-01-27T01:15:19.756071Z"
        },
        "trusted": true,
        "id": "XwNn2eirgDZM"
      },
      "outputs": [],
      "execution_count": null
    },
    {
      "cell_type": "markdown",
      "source": [
        "### Fraud and not fraud, mostly, are in the lowest number of attending, operating, and other physician. Even thought, the higher number increasingly change to be not fraud."
      ],
      "metadata": {
        "id": "GlN3E5nSgDZM"
      }
    },
    {
      "cell_type": "markdown",
      "source": [
        "## How many difference number of claim between fraud and not fraud?"
      ],
      "metadata": {
        "id": "mMj2eCBrgDZM"
      }
    },
    {
      "cell_type": "code",
      "source": [
        "for feature in df_train.columns:\n",
        "    if feature[:3] == 'num':\n",
        "        fig = px.histogram(df_train, x=feature, color=\"PotentialFraud\")\n",
        "        fig.show()"
      ],
      "metadata": {
        "execution": {
          "iopub.status.busy": "2025-01-27T01:15:19.75866Z",
          "iopub.execute_input": "2025-01-27T01:15:19.759055Z",
          "iopub.status.idle": "2025-01-27T01:15:19.880858Z",
          "shell.execute_reply.started": "2025-01-27T01:15:19.759019Z",
          "shell.execute_reply": "2025-01-27T01:15:19.879101Z"
        },
        "trusted": true,
        "id": "_avnOilMgDZM"
      },
      "outputs": [],
      "execution_count": null
    },
    {
      "cell_type": "markdown",
      "source": [
        "### Fraud and not fraud, mostly, are in the lowest number of claim. Even thought, the higher number increasingly change to be not fraud."
      ],
      "metadata": {
        "id": "z4taU-aigDZM"
      }
    },
    {
      "cell_type": "markdown",
      "source": [
        "## How many difference amount between fraud and not fraud?"
      ],
      "metadata": {
        "id": "lCrc4zrwgDZM"
      }
    },
    {
      "cell_type": "code",
      "source": [
        "for feature in ['InscClaimAmtReimbursed_In', 'DeductibleAmtPaid_In']:\n",
        "    fig = px.histogram(df_train, x=feature, color=\"PotentialFraud\")\n",
        "    fig.show()"
      ],
      "metadata": {
        "execution": {
          "iopub.status.busy": "2025-01-27T01:15:19.882277Z",
          "iopub.execute_input": "2025-01-27T01:15:19.882666Z",
          "iopub.status.idle": "2025-01-27T01:15:20.013438Z",
          "shell.execute_reply.started": "2025-01-27T01:15:19.882631Z",
          "shell.execute_reply": "2025-01-27T01:15:20.012154Z"
        },
        "trusted": true,
        "id": "a-NNEAU3gDZS"
      },
      "outputs": [],
      "execution_count": null
    },
    {
      "cell_type": "code",
      "source": [
        "for feature in df_train.columns:\n",
        "    if feature[-3:] == 'Amt':\n",
        "        fig = px.histogram(df_train, x=feature, color=\"PotentialFraud\")\n",
        "        fig.show()"
      ],
      "metadata": {
        "execution": {
          "iopub.status.busy": "2025-01-27T01:15:20.014739Z",
          "iopub.execute_input": "2025-01-27T01:15:20.015244Z",
          "iopub.status.idle": "2025-01-27T01:15:20.256428Z",
          "shell.execute_reply.started": "2025-01-27T01:15:20.015195Z",
          "shell.execute_reply": "2025-01-27T01:15:20.255077Z"
        },
        "trusted": true,
        "id": "aqcevJyYgDZS"
      },
      "outputs": [],
      "execution_count": null
    },
    {
      "cell_type": "markdown",
      "source": [
        "### Fraud and not fraud, mostly, are in the lowest payment. Even thought, the higher amount increasingly change to be not fraud."
      ],
      "metadata": {
        "id": "8b894S9GgDZS"
      }
    },
    {
      "cell_type": "markdown",
      "source": [
        "## What is the 5 most chronic disseases that fraud and not fraud have?"
      ],
      "metadata": {
        "id": "DuK7f2FygDZS"
      }
    },
    {
      "cell_type": "code",
      "source": [
        "df_fraud = df_train[df_train['PotentialFraud'] == 'Yes']\n",
        "for i in df_fraud.columns:\n",
        "    if i[:11] == 'ChronicCond' :\n",
        "        print(f'Maximum value of Fraud {i} : {df_fraud[i].max()}')"
      ],
      "metadata": {
        "execution": {
          "iopub.status.busy": "2025-01-27T01:15:20.257813Z",
          "iopub.execute_input": "2025-01-27T01:15:20.258311Z",
          "iopub.status.idle": "2025-01-27T01:15:20.27139Z",
          "shell.execute_reply.started": "2025-01-27T01:15:20.258265Z",
          "shell.execute_reply": "2025-01-27T01:15:20.269634Z"
        },
        "trusted": true,
        "id": "vAwiPdsCgDZS"
      },
      "outputs": [],
      "execution_count": null
    },
    {
      "cell_type": "code",
      "source": [
        "#The fifth chronic conditions based on fraud provider have maximum number more than 281\n",
        "for feature in df_fraud.columns:\n",
        "    if feature[:11] == 'ChronicCond' and df_fraud[feature].max() > 281:\n",
        "        fig = px.histogram(df_train, x=feature, color=\"PotentialFraud\")\n",
        "        fig.show()"
      ],
      "metadata": {
        "execution": {
          "iopub.status.busy": "2025-01-27T01:15:20.272606Z",
          "iopub.execute_input": "2025-01-27T01:15:20.273007Z",
          "iopub.status.idle": "2025-01-27T01:15:20.583108Z",
          "shell.execute_reply.started": "2025-01-27T01:15:20.272942Z",
          "shell.execute_reply": "2025-01-27T01:15:20.581649Z"
        },
        "trusted": true,
        "id": "r-P-pBKcgDZS"
      },
      "outputs": [],
      "execution_count": null
    },
    {
      "cell_type": "code",
      "source": [
        "df_not_fraud = df_train[df_train['PotentialFraud'] == 'No']\n",
        "for i in df_not_fraud.columns:\n",
        "    if i[:11] == 'ChronicCond' :\n",
        "        print(f'Maximum value of Not fraud {i} : {df_not_fraud[i].max()}')"
      ],
      "metadata": {
        "execution": {
          "iopub.status.busy": "2025-01-27T01:15:20.584452Z",
          "iopub.execute_input": "2025-01-27T01:15:20.584796Z",
          "iopub.status.idle": "2025-01-27T01:15:20.602377Z",
          "shell.execute_reply.started": "2025-01-27T01:15:20.58475Z",
          "shell.execute_reply": "2025-01-27T01:15:20.60086Z"
        },
        "trusted": true,
        "id": "OFJtSnVTgDZS"
      },
      "outputs": [],
      "execution_count": null
    },
    {
      "cell_type": "code",
      "source": [
        "#The fifth chronic conditions based on not fraud provider have maximum number between 63 and 97\n",
        "for feature in df_not_fraud.columns:\n",
        "    if feature[:11] == 'ChronicCond' and df_not_fraud[feature].max() >= 63:\n",
        "        fig = px.histogram(df_train, x=feature, color=\"PotentialFraud\")\n",
        "        fig.show()"
      ],
      "metadata": {
        "execution": {
          "iopub.status.busy": "2025-01-27T01:15:20.603906Z",
          "iopub.execute_input": "2025-01-27T01:15:20.604386Z",
          "iopub.status.idle": "2025-01-27T01:15:20.900142Z",
          "shell.execute_reply.started": "2025-01-27T01:15:20.60434Z",
          "shell.execute_reply": "2025-01-27T01:15:20.89887Z"
        },
        "trusted": true,
        "id": "aeBUbDqpgDZS"
      },
      "outputs": [],
      "execution_count": null
    },
    {
      "cell_type": "markdown",
      "source": [
        "### Chronic diseases between two claims are almost same. The difference is that the depression is only in non fraud while the obstr pulmonary."
      ],
      "metadata": {
        "id": "_NrfE6FngDZS"
      }
    },
    {
      "cell_type": "markdown",
      "source": [
        "# Get test data (Follow same map with train)"
      ],
      "metadata": {
        "id": "9ydmFGb0gDZS"
      }
    },
    {
      "cell_type": "code",
      "source": [
        "#merge all training data.\n",
        "df_test = Test.merge(Test_Inpatientdata, how = 'left', on = 'Provider')\n",
        "df_test = df_test.merge(Test_Outpatientdata, how = 'left', on = ['Provider', 'BeneID', 'ClaimID'])\n",
        "df_test = df_test.merge(Test_Beneficiarydata, how = 'left', on = 'BeneID')"
      ],
      "metadata": {
        "execution": {
          "iopub.status.busy": "2025-01-27T01:15:20.901459Z",
          "iopub.execute_input": "2025-01-27T01:15:20.901877Z",
          "iopub.status.idle": "2025-01-27T01:15:21.136632Z",
          "shell.execute_reply.started": "2025-01-27T01:15:20.901835Z",
          "shell.execute_reply": "2025-01-27T01:15:21.135552Z"
        },
        "trusted": true,
        "id": "kee4ZXHEgDZT"
      },
      "outputs": [],
      "execution_count": null
    },
    {
      "cell_type": "code",
      "source": [
        "## Add num of claims features\n",
        "\n",
        "# Assign claim to 1 and null claim to 0\n",
        "df_test[['ClmDiagnosisCode_1_x', 'ClmDiagnosisCode_2_x', 'ClmDiagnosisCode_3_x', 'ClmDiagnosisCode_4_x', 'ClmDiagnosisCode_5_x', 'ClmDiagnosisCode_6_x', 'ClmDiagnosisCode_7_x', 'ClmDiagnosisCode_8_x', 'ClmDiagnosisCode_9_x', 'ClmDiagnosisCode_10_x']] = df_test[['ClmDiagnosisCode_1_x', 'ClmDiagnosisCode_2_x', 'ClmDiagnosisCode_3_x', 'ClmDiagnosisCode_4_x', 'ClmDiagnosisCode_5_x', 'ClmDiagnosisCode_6_x', 'ClmDiagnosisCode_7_x', 'ClmDiagnosisCode_8_x', 'ClmDiagnosisCode_9_x', 'ClmDiagnosisCode_10_x']].where(~df_test[['ClmDiagnosisCode_1_x', 'ClmDiagnosisCode_2_x', 'ClmDiagnosisCode_3_x', 'ClmDiagnosisCode_4_x', 'ClmDiagnosisCode_5_x', 'ClmDiagnosisCode_6_x', 'ClmDiagnosisCode_7_x', 'ClmDiagnosisCode_8_x', 'ClmDiagnosisCode_9_x', 'ClmDiagnosisCode_10_x']].notna(), 1)\n",
        "df_test[['ClmDiagnosisCode_1_x', 'ClmDiagnosisCode_2_x', 'ClmDiagnosisCode_3_x', 'ClmDiagnosisCode_4_x', 'ClmDiagnosisCode_5_x', 'ClmDiagnosisCode_6_x', 'ClmDiagnosisCode_7_x', 'ClmDiagnosisCode_8_x', 'ClmDiagnosisCode_9_x', 'ClmDiagnosisCode_10_x']] = df_test[['ClmDiagnosisCode_1_x', 'ClmDiagnosisCode_2_x', 'ClmDiagnosisCode_3_x', 'ClmDiagnosisCode_4_x', 'ClmDiagnosisCode_5_x', 'ClmDiagnosisCode_6_x', 'ClmDiagnosisCode_7_x', 'ClmDiagnosisCode_8_x', 'ClmDiagnosisCode_9_x', 'ClmDiagnosisCode_10_x']].where(df_test[['ClmDiagnosisCode_1_x', 'ClmDiagnosisCode_2_x', 'ClmDiagnosisCode_3_x', 'ClmDiagnosisCode_4_x', 'ClmDiagnosisCode_5_x', 'ClmDiagnosisCode_6_x', 'ClmDiagnosisCode_7_x', 'ClmDiagnosisCode_8_x', 'ClmDiagnosisCode_9_x', 'ClmDiagnosisCode_10_x']].notna(), 0)\n",
        "\n",
        "#change type of columns from string into int\n",
        "df_test[['ClmDiagnosisCode_1_x', 'ClmDiagnosisCode_2_x', 'ClmDiagnosisCode_3_x', 'ClmDiagnosisCode_4_x', 'ClmDiagnosisCode_5_x', 'ClmDiagnosisCode_6_x', 'ClmDiagnosisCode_7_x', 'ClmDiagnosisCode_8_x', 'ClmDiagnosisCode_9_x', 'ClmDiagnosisCode_10_x']] = df_test[['ClmDiagnosisCode_1_x', 'ClmDiagnosisCode_2_x', 'ClmDiagnosisCode_3_x', 'ClmDiagnosisCode_4_x', 'ClmDiagnosisCode_5_x', 'ClmDiagnosisCode_6_x', 'ClmDiagnosisCode_7_x', 'ClmDiagnosisCode_8_x', 'ClmDiagnosisCode_9_x', 'ClmDiagnosisCode_10_x']].astype('int64')\n",
        "\n",
        "# Sum number of claims\n",
        "claim_diagnose = []\n",
        "\n",
        "for i in range(len(df_test)):\n",
        "    claim_diagnose.append(df_test['ClmDiagnosisCode_1_x'][i]+ df_test['ClmDiagnosisCode_2_x'][i]+ df_test['ClmDiagnosisCode_3_x'][i]+ df_test['ClmDiagnosisCode_4_x'][i]+ df_test['ClmDiagnosisCode_5_x'][i]+ df_test['ClmDiagnosisCode_6_x'][i]+ df_test['ClmDiagnosisCode_7_x'][i]+df_test['ClmDiagnosisCode_8_x'][i]+  df_test['ClmDiagnosisCode_9_x'][i]+ df_test['ClmDiagnosisCode_10_x'][i])\n",
        "\n",
        "#Put into a column.\n",
        "df_test['num_claim_diagnose_in'] = claim_diagnose\n",
        "\n",
        "#drop columns of claim code.\n",
        "df_test.drop(columns = ['ClmDiagnosisCode_1_x', 'ClmDiagnosisCode_2_x', 'ClmDiagnosisCode_3_x', 'ClmDiagnosisCode_4_x', 'ClmDiagnosisCode_5_x', 'ClmDiagnosisCode_6_x', 'ClmDiagnosisCode_7_x', 'ClmDiagnosisCode_8_x', 'ClmDiagnosisCode_9_x', 'ClmDiagnosisCode_10_x'], axis = 1, inplace = True)"
      ],
      "metadata": {
        "execution": {
          "iopub.status.busy": "2025-01-27T01:15:21.13805Z",
          "iopub.execute_input": "2025-01-27T01:15:21.138507Z",
          "iopub.status.idle": "2025-01-27T01:15:21.7948Z",
          "shell.execute_reply.started": "2025-01-27T01:15:21.138463Z",
          "shell.execute_reply": "2025-01-27T01:15:21.793422Z"
        },
        "trusted": true,
        "id": "MOw8jmSKgDZT"
      },
      "outputs": [],
      "execution_count": null
    },
    {
      "cell_type": "code",
      "source": [
        "# Assign claim to 1 and null claim to 0\n",
        "df_test[['ClmDiagnosisCode_1_y', 'ClmDiagnosisCode_2_y', 'ClmDiagnosisCode_3_y', 'ClmDiagnosisCode_4_y', 'ClmDiagnosisCode_5_y', 'ClmDiagnosisCode_6_y', 'ClmDiagnosisCode_7_y', 'ClmDiagnosisCode_8_y', 'ClmDiagnosisCode_9_y', 'ClmDiagnosisCode_10_y']] = df_test[['ClmDiagnosisCode_1_y', 'ClmDiagnosisCode_2_y', 'ClmDiagnosisCode_3_y', 'ClmDiagnosisCode_4_y', 'ClmDiagnosisCode_5_y', 'ClmDiagnosisCode_6_y', 'ClmDiagnosisCode_7_y', 'ClmDiagnosisCode_8_y', 'ClmDiagnosisCode_9_y', 'ClmDiagnosisCode_10_y']].where(~df_test[['ClmDiagnosisCode_1_y', 'ClmDiagnosisCode_2_y', 'ClmDiagnosisCode_3_y', 'ClmDiagnosisCode_4_y', 'ClmDiagnosisCode_5_y', 'ClmDiagnosisCode_6_y', 'ClmDiagnosisCode_7_y', 'ClmDiagnosisCode_8_y', 'ClmDiagnosisCode_9_y', 'ClmDiagnosisCode_10_y']].notna(), 1)\n",
        "df_test[['ClmDiagnosisCode_1_y', 'ClmDiagnosisCode_2_y', 'ClmDiagnosisCode_3_y', 'ClmDiagnosisCode_4_y', 'ClmDiagnosisCode_5_y', 'ClmDiagnosisCode_6_y', 'ClmDiagnosisCode_7_y', 'ClmDiagnosisCode_8_y', 'ClmDiagnosisCode_9_y', 'ClmDiagnosisCode_10_y']] = df_test[['ClmDiagnosisCode_1_y', 'ClmDiagnosisCode_2_y', 'ClmDiagnosisCode_3_y', 'ClmDiagnosisCode_4_y', 'ClmDiagnosisCode_5_y', 'ClmDiagnosisCode_6_y', 'ClmDiagnosisCode_7_y', 'ClmDiagnosisCode_8_y', 'ClmDiagnosisCode_9_y', 'ClmDiagnosisCode_10_y']].where(df_test[['ClmDiagnosisCode_1_y', 'ClmDiagnosisCode_2_y', 'ClmDiagnosisCode_3_y', 'ClmDiagnosisCode_4_y', 'ClmDiagnosisCode_5_y', 'ClmDiagnosisCode_6_y', 'ClmDiagnosisCode_7_y', 'ClmDiagnosisCode_8_y', 'ClmDiagnosisCode_9_y', 'ClmDiagnosisCode_10_y']].notna(), 0)\n",
        "\n",
        "#change type of columns from string into int\n",
        "df_test[['ClmDiagnosisCode_1_y', 'ClmDiagnosisCode_2_y', 'ClmDiagnosisCode_3_y', 'ClmDiagnosisCode_4_y', 'ClmDiagnosisCode_5_y', 'ClmDiagnosisCode_6_y', 'ClmDiagnosisCode_7_y', 'ClmDiagnosisCode_8_y', 'ClmDiagnosisCode_9_y', 'ClmDiagnosisCode_10_y']] = df_test[['ClmDiagnosisCode_1_y', 'ClmDiagnosisCode_2_y', 'ClmDiagnosisCode_3_y', 'ClmDiagnosisCode_4_y', 'ClmDiagnosisCode_5_y', 'ClmDiagnosisCode_6_y', 'ClmDiagnosisCode_7_y', 'ClmDiagnosisCode_8_y', 'ClmDiagnosisCode_9_y', 'ClmDiagnosisCode_10_y']].astype('int64')\n",
        "\n",
        "# Sum number of claims\n",
        "claim_diagnose = []\n",
        "\n",
        "for i in range(len(df_test)):\n",
        "    claim_diagnose.append(df_test['ClmDiagnosisCode_1_y'][i]+ df_test['ClmDiagnosisCode_2_y'][i]+ df_test['ClmDiagnosisCode_3_y'][i]+ df_test['ClmDiagnosisCode_4_y'][i]+ df_test['ClmDiagnosisCode_5_y'][i]+ df_test['ClmDiagnosisCode_6_y'][i]+ df_test['ClmDiagnosisCode_7_y'][i]+df_test['ClmDiagnosisCode_8_y'][i]+  df_test['ClmDiagnosisCode_9_y'][i]+ df_test['ClmDiagnosisCode_10_y'][i])\n",
        "\n",
        "#Put into a column.\n",
        "df_test['num_claim_diagnose_out'] = claim_diagnose\n",
        "\n",
        "#drop columns of claim code.\n",
        "df_test.drop(columns = ['ClmDiagnosisCode_1_y', 'ClmDiagnosisCode_2_y', 'ClmDiagnosisCode_3_y', 'ClmDiagnosisCode_4_y', 'ClmDiagnosisCode_5_y', 'ClmDiagnosisCode_6_y', 'ClmDiagnosisCode_7_y', 'ClmDiagnosisCode_8_y', 'ClmDiagnosisCode_9_y', 'ClmDiagnosisCode_10_y'], axis = 1, inplace = True)"
      ],
      "metadata": {
        "execution": {
          "iopub.status.busy": "2025-01-27T01:15:21.796279Z",
          "iopub.execute_input": "2025-01-27T01:15:21.796626Z",
          "iopub.status.idle": "2025-01-27T01:15:22.450131Z",
          "shell.execute_reply.started": "2025-01-27T01:15:21.796598Z",
          "shell.execute_reply": "2025-01-27T01:15:22.449007Z"
        },
        "trusted": true,
        "id": "lwcetyAZgDZT"
      },
      "outputs": [],
      "execution_count": null
    },
    {
      "cell_type": "code",
      "source": [
        "# Assign claim to 1 and null claim to 0\n",
        "df_test[['ClmProcedureCode_1_x', 'ClmProcedureCode_2_x', 'ClmProcedureCode_3_x', 'ClmProcedureCode_4_x', 'ClmProcedureCode_5_x']] = df_test[['ClmProcedureCode_1_x', 'ClmProcedureCode_2_x', 'ClmProcedureCode_3_x', 'ClmProcedureCode_4_x', 'ClmProcedureCode_5_x']].where(~df_test[['ClmProcedureCode_1_x', 'ClmProcedureCode_2_x', 'ClmProcedureCode_3_x', 'ClmProcedureCode_4_x', 'ClmProcedureCode_5_x']].notna(), 1)\n",
        "df_test[['ClmProcedureCode_1_x', 'ClmProcedureCode_2_x', 'ClmProcedureCode_3_x', 'ClmProcedureCode_4_x', 'ClmProcedureCode_5_x']] = df_test[['ClmProcedureCode_1_x', 'ClmProcedureCode_2_x', 'ClmProcedureCode_3_x', 'ClmProcedureCode_4_x', 'ClmProcedureCode_5_x']].where(df_test[['ClmProcedureCode_1_x', 'ClmProcedureCode_2_x', 'ClmProcedureCode_3_x', 'ClmProcedureCode_4_x', 'ClmProcedureCode_5_x']].notna(), 0)\n",
        "\n",
        "#change type of columns from string into int\n",
        "df_test[['ClmProcedureCode_1_x', 'ClmProcedureCode_2_x', 'ClmProcedureCode_3_x', 'ClmProcedureCode_4_x', 'ClmProcedureCode_5_x']] = df_test[['ClmProcedureCode_1_x', 'ClmProcedureCode_2_x', 'ClmProcedureCode_3_x', 'ClmProcedureCode_4_x', 'ClmProcedureCode_5_x']].astype('int64')\n",
        "\n",
        "# Sum number of claims\n",
        "claim_procedure = []\n",
        "\n",
        "for i in range(len(df_test)):\n",
        "    claim_procedure.append(df_test['ClmProcedureCode_1_x'][i]+ df_test['ClmProcedureCode_2_x'][i]+ df_test['ClmProcedureCode_3_x'][i]+ df_test['ClmProcedureCode_4_x'][i]+ df_test['ClmProcedureCode_5_x'][i])\n",
        "\n",
        "#Put into a column.\n",
        "df_test['num_claim_procedure_in'] = claim_procedure\n",
        "\n",
        "#drop columns of claim code.\n",
        "df_test.drop(columns = ['ClmProcedureCode_1_x', 'ClmProcedureCode_2_x', 'ClmProcedureCode_3_x', 'ClmProcedureCode_4_x', 'ClmProcedureCode_5_x'], axis = 1, inplace = True)"
      ],
      "metadata": {
        "execution": {
          "iopub.status.busy": "2025-01-27T01:15:22.451302Z",
          "iopub.execute_input": "2025-01-27T01:15:22.451722Z",
          "iopub.status.idle": "2025-01-27T01:15:22.791343Z",
          "shell.execute_reply.started": "2025-01-27T01:15:22.45168Z",
          "shell.execute_reply": "2025-01-27T01:15:22.789986Z"
        },
        "trusted": true,
        "id": "L4osDXqMgDZT"
      },
      "outputs": [],
      "execution_count": null
    },
    {
      "cell_type": "code",
      "source": [
        "# Assign claim to 1 and null claim to 0\n",
        "df_test[['ClmProcedureCode_1_y', 'ClmProcedureCode_2_y', 'ClmProcedureCode_3_y', 'ClmProcedureCode_4_y', 'ClmProcedureCode_5_y']] = df_test[['ClmProcedureCode_1_y', 'ClmProcedureCode_2_y', 'ClmProcedureCode_3_y', 'ClmProcedureCode_4_y', 'ClmProcedureCode_5_y']].where(~df_test[['ClmProcedureCode_1_y', 'ClmProcedureCode_2_y', 'ClmProcedureCode_3_y', 'ClmProcedureCode_4_y', 'ClmProcedureCode_5_y']].notna(), 1)\n",
        "df_test[['ClmProcedureCode_1_y', 'ClmProcedureCode_2_y', 'ClmProcedureCode_3_y', 'ClmProcedureCode_4_y', 'ClmProcedureCode_5_y']] = df_test[['ClmProcedureCode_1_y', 'ClmProcedureCode_2_y', 'ClmProcedureCode_3_y', 'ClmProcedureCode_4_y', 'ClmProcedureCode_5_y']].where(df_test[['ClmProcedureCode_1_y', 'ClmProcedureCode_2_y', 'ClmProcedureCode_3_y', 'ClmProcedureCode_4_y', 'ClmProcedureCode_5_y']].notna(), 0)\n",
        "\n",
        "#change type of columns from string into int\n",
        "df_test[['ClmProcedureCode_1_y', 'ClmProcedureCode_2_y', 'ClmProcedureCode_3_y', 'ClmProcedureCode_4_y', 'ClmProcedureCode_5_y']] = df_test[['ClmProcedureCode_1_y', 'ClmProcedureCode_2_y', 'ClmProcedureCode_3_y', 'ClmProcedureCode_4_y', 'ClmProcedureCode_5_y']].astype('int64')\n",
        "\n",
        "# Sum number of claims\n",
        "claim_procedure = []\n",
        "\n",
        "for i in range(len(df_test)):\n",
        "    claim_procedure.append(df_test['ClmProcedureCode_1_y'][i]+ df_test['ClmProcedureCode_2_y'][i]+ df_test['ClmProcedureCode_3_y'][i]+ df_test['ClmProcedureCode_4_y'][i]+ df_test['ClmProcedureCode_5_y'][i])\n",
        "\n",
        "#Put into a column.\n",
        "df_test['num_claim_procedure_out'] = claim_procedure\n",
        "\n",
        "#drop columns of claim code.\n",
        "df_test.drop(columns = ['ClmProcedureCode_1_y', 'ClmProcedureCode_2_y', 'ClmProcedureCode_3_y', 'ClmProcedureCode_4_y', 'ClmProcedureCode_5_y'], axis = 1, inplace = True)"
      ],
      "metadata": {
        "execution": {
          "iopub.status.busy": "2025-01-27T01:15:22.792868Z",
          "iopub.execute_input": "2025-01-27T01:15:22.793428Z",
          "iopub.status.idle": "2025-01-27T01:15:23.160514Z",
          "shell.execute_reply.started": "2025-01-27T01:15:22.793381Z",
          "shell.execute_reply": "2025-01-27T01:15:23.159049Z"
        },
        "trusted": true,
        "id": "C8LBlgzigDZT"
      },
      "outputs": [],
      "execution_count": null
    },
    {
      "cell_type": "code",
      "source": [
        "## Mapping attending columns\n",
        "df_test[['AttendingPhysician_x', 'OperatingPhysician_x', 'OtherPhysician_x']] = df_test[['AttendingPhysician_x', 'OperatingPhysician_x', 'OtherPhysician_x']].where(~df_test[['AttendingPhysician_x', 'OperatingPhysician_x', 'OtherPhysician_x']].notna(), 1)\n",
        "df_test[['AttendingPhysician_x', 'OperatingPhysician_x', 'OtherPhysician_x']] = df_test[['AttendingPhysician_x', 'OperatingPhysician_x', 'OtherPhysician_x']].where(df_test[['AttendingPhysician_x', 'OperatingPhysician_x', 'OtherPhysician_x']].notna(), 0)\n",
        "df_test[['AttendingPhysician_y', 'OperatingPhysician_y', 'OtherPhysician_y']] = df_test[['AttendingPhysician_y', 'OperatingPhysician_y', 'OtherPhysician_y']].where(~df_test[['AttendingPhysician_y', 'OperatingPhysician_y', 'OtherPhysician_y']].notna(), 1)\n",
        "df_test[['AttendingPhysician_y', 'OperatingPhysician_y', 'OtherPhysician_y']] = df_test[['AttendingPhysician_y', 'OperatingPhysician_y', 'OtherPhysician_y']].where(df_test[['AttendingPhysician_y', 'OperatingPhysician_y', 'OtherPhysician_y']].notna(), 0)\n",
        "\n",
        "#Change tipe of columns\n",
        "df_test[['AttendingPhysician_x', 'OperatingPhysician_x', 'OtherPhysician_x']] = df_test[['AttendingPhysician_x', 'OperatingPhysician_x', 'OtherPhysician_x']].astype('int64')\n",
        "df_test[['AttendingPhysician_y', 'OperatingPhysician_y', 'OtherPhysician_y']] = df_test[['AttendingPhysician_y', 'OperatingPhysician_y', 'OtherPhysician_y']].astype('int64')"
      ],
      "metadata": {
        "execution": {
          "iopub.status.busy": "2025-01-27T01:15:23.162019Z",
          "iopub.execute_input": "2025-01-27T01:15:23.16241Z",
          "iopub.status.idle": "2025-01-27T01:15:23.206359Z",
          "shell.execute_reply.started": "2025-01-27T01:15:23.162378Z",
          "shell.execute_reply": "2025-01-27T01:15:23.205033Z"
        },
        "trusted": true,
        "id": "GOFRvFuMgDZT"
      },
      "outputs": [],
      "execution_count": null
    },
    {
      "cell_type": "code",
      "source": [
        "### Mapping chronic dissease columns\n",
        "##Replacing 2 with 0 for chronic conditions ,that means chronic condition No is 0 and yes is 1\n",
        "\n",
        "\n",
        "df_test = df_test.replace({'ChronicCond_Alzheimer': 2, 'ChronicCond_Heartfailure': 2, 'ChronicCond_KidneyDisease': 2,\n",
        "                           'ChronicCond_Cancer': 2, 'ChronicCond_ObstrPulmonary': 2, 'ChronicCond_Depression': 2,\n",
        "                           'ChronicCond_Diabetes': 2, 'ChronicCond_IschemicHeart': 2, 'ChronicCond_Osteoporasis': 2,\n",
        "                           'ChronicCond_rheumatoidarthritis': 2, 'ChronicCond_stroke': 2 }, 0)"
      ],
      "metadata": {
        "execution": {
          "iopub.status.busy": "2025-01-27T01:15:23.20783Z",
          "iopub.execute_input": "2025-01-27T01:15:23.208341Z",
          "iopub.status.idle": "2025-01-27T01:15:23.231542Z",
          "shell.execute_reply.started": "2025-01-27T01:15:23.208291Z",
          "shell.execute_reply": "2025-01-27T01:15:23.23009Z"
        },
        "trusted": true,
        "id": "Kw7RR1cXgDZT"
      },
      "outputs": [],
      "execution_count": null
    },
    {
      "cell_type": "code",
      "source": [
        "#Groupby Provider\n",
        "df_test = df_test.groupby(['Provider'],as_index=False).agg('sum')\n",
        "df_test.drop(columns = ['Gender', 'Race', 'State', 'County'], inplace = True, axis = 1)"
      ],
      "metadata": {
        "execution": {
          "iopub.status.busy": "2025-01-27T01:15:23.233182Z",
          "iopub.execute_input": "2025-01-27T01:15:23.233613Z",
          "iopub.status.idle": "2025-01-27T01:15:23.276416Z",
          "shell.execute_reply.started": "2025-01-27T01:15:23.233536Z",
          "shell.execute_reply": "2025-01-27T01:15:23.275042Z"
        },
        "trusted": true,
        "id": "ijagfbx6gDZT"
      },
      "outputs": [],
      "execution_count": null
    },
    {
      "cell_type": "code",
      "source": [
        "#rename columns\n",
        "\n",
        "#Assign template to rename columns.\n",
        "name = []\n",
        "temp = []\n",
        "for column in df_test.columns:\n",
        "    if column[-2:] == '_x':\n",
        "        name.append(column)\n",
        "        temp.append(column[:-2] + '_In')"
      ],
      "metadata": {
        "execution": {
          "iopub.status.busy": "2025-01-27T01:15:23.277866Z",
          "iopub.execute_input": "2025-01-27T01:15:23.278307Z",
          "iopub.status.idle": "2025-01-27T01:15:23.284451Z",
          "shell.execute_reply.started": "2025-01-27T01:15:23.27826Z",
          "shell.execute_reply": "2025-01-27T01:15:23.282933Z"
        },
        "trusted": true,
        "id": "2s2h06zigDZT"
      },
      "outputs": [],
      "execution_count": null
    },
    {
      "cell_type": "code",
      "source": [
        "# Rename column based on template.\n",
        "for i in range(len(name)):\n",
        "    df_test=df_test.rename(columns = {name[i]:temp[i]})"
      ],
      "metadata": {
        "execution": {
          "iopub.status.busy": "2025-01-27T01:15:23.285865Z",
          "iopub.execute_input": "2025-01-27T01:15:23.286377Z",
          "iopub.status.idle": "2025-01-27T01:15:23.31027Z",
          "shell.execute_reply.started": "2025-01-27T01:15:23.286329Z",
          "shell.execute_reply": "2025-01-27T01:15:23.308715Z"
        },
        "trusted": true,
        "id": "44Jcii5lgDZU"
      },
      "outputs": [],
      "execution_count": null
    },
    {
      "cell_type": "code",
      "source": [
        "#Assign template to rename columns.\n",
        "name = []\n",
        "temp = []\n",
        "for column in df_test.columns:\n",
        "    if column[-2:] == '_y':\n",
        "        name.append(column)\n",
        "        temp.append(column[:-2] + '_Out')"
      ],
      "metadata": {
        "execution": {
          "iopub.status.busy": "2025-01-27T01:15:23.311829Z",
          "iopub.execute_input": "2025-01-27T01:15:23.312347Z",
          "iopub.status.idle": "2025-01-27T01:15:23.319922Z",
          "shell.execute_reply.started": "2025-01-27T01:15:23.312299Z",
          "shell.execute_reply": "2025-01-27T01:15:23.318385Z"
        },
        "trusted": true,
        "id": "YLac6ThLgDZU"
      },
      "outputs": [],
      "execution_count": null
    },
    {
      "cell_type": "code",
      "source": [
        "# Rename column based on template.\n",
        "for i in range(len(name)):\n",
        "    df_test=df_test.rename(columns = {name[i]:temp[i]})"
      ],
      "metadata": {
        "execution": {
          "iopub.status.busy": "2025-01-27T01:15:23.321285Z",
          "iopub.execute_input": "2025-01-27T01:15:23.321794Z",
          "iopub.status.idle": "2025-01-27T01:15:23.347593Z",
          "shell.execute_reply.started": "2025-01-27T01:15:23.321749Z",
          "shell.execute_reply": "2025-01-27T01:15:23.346157Z"
        },
        "trusted": true,
        "id": "wMH0qZP5gDZU"
      },
      "outputs": [],
      "execution_count": null
    },
    {
      "cell_type": "code",
      "source": [
        "#Based on descriptive statistics, columns that only one value will be deleted.\n",
        "deleted = []\n",
        "for feature in df_test.columns:\n",
        "    if df_test[feature].nunique() <= 1:\n",
        "        deleted.append(feature)\n",
        "\n",
        "df_test = df_test[[i for i in df_test.columns if i not in deleted]]"
      ],
      "metadata": {
        "execution": {
          "iopub.status.busy": "2025-01-27T01:15:23.34898Z",
          "iopub.execute_input": "2025-01-27T01:15:23.349357Z",
          "iopub.status.idle": "2025-01-27T01:15:23.37002Z",
          "shell.execute_reply.started": "2025-01-27T01:15:23.349325Z",
          "shell.execute_reply": "2025-01-27T01:15:23.368479Z"
        },
        "trusted": true,
        "id": "-Q2KGKbBgDZU"
      },
      "outputs": [],
      "execution_count": null
    },
    {
      "cell_type": "code",
      "source": [
        "#check null columns\n",
        "df_test.isnull().sum()"
      ],
      "metadata": {
        "execution": {
          "iopub.status.busy": "2025-01-27T01:15:23.371406Z",
          "iopub.execute_input": "2025-01-27T01:15:23.371803Z",
          "iopub.status.idle": "2025-01-27T01:15:23.38457Z",
          "shell.execute_reply.started": "2025-01-27T01:15:23.371773Z",
          "shell.execute_reply": "2025-01-27T01:15:23.383111Z"
        },
        "trusted": true,
        "id": "vMCGoVvNgDZU"
      },
      "outputs": [],
      "execution_count": null
    },
    {
      "cell_type": "markdown",
      "source": [
        "## Advance Feature Selection"
      ],
      "metadata": {
        "id": "hGzaMwdUgDZU"
      }
    },
    {
      "cell_type": "code",
      "source": [
        "## Fill NaN\n",
        "\n",
        "df_m = df_train.copy()\n",
        "\n",
        "num_cols = [i for i in df_m.columns if df_m[i].dtypes == 'float64' or df_m[i].dtypes == 'int64']\n",
        "\n",
        "\n",
        "for i in num_cols:\n",
        "    df_m[i].fillna(0, inplace=True)"
      ],
      "metadata": {
        "execution": {
          "iopub.status.busy": "2025-01-27T01:15:23.386028Z",
          "iopub.execute_input": "2025-01-27T01:15:23.386547Z",
          "iopub.status.idle": "2025-01-27T01:15:23.41437Z",
          "shell.execute_reply.started": "2025-01-27T01:15:23.386498Z",
          "shell.execute_reply": "2025-01-27T01:15:23.412597Z"
        },
        "trusted": true,
        "id": "3ymgGxBogDZU"
      },
      "outputs": [],
      "execution_count": null
    },
    {
      "cell_type": "code",
      "source": [
        "#Select columns using correlation between categorical and numerical data.\n",
        "df_m[\"PotentialFraud\"] = df_m[\"PotentialFraud\"].map({\"Yes\" : 1,\"No\" : 0})\n",
        "num_cols = num_cols + [\"PotentialFraud\"]\n",
        "corr = df_m[num_cols].corr(method='kendall')['PotentialFraud'].reset_index().rename(columns = {'index' : 'feature'})\n",
        "\n",
        "select_cols = []\n",
        "for i in corr['feature'].unique():\n",
        "    if (corr.loc[corr.feature == i, 'PotentialFraud'].values[0] >= 0.01) | (corr.loc[corr.feature == i, 'PotentialFraud'].values[0] <= -0.01):\n",
        "        select_cols.append(i)\n",
        "    else:\n",
        "        continue"
      ],
      "metadata": {
        "execution": {
          "iopub.status.busy": "2025-01-27T01:15:23.415739Z",
          "iopub.execute_input": "2025-01-27T01:15:23.416258Z",
          "iopub.status.idle": "2025-01-27T01:15:23.810477Z",
          "shell.execute_reply.started": "2025-01-27T01:15:23.416208Z",
          "shell.execute_reply": "2025-01-27T01:15:23.80907Z"
        },
        "trusted": true,
        "id": "A6YB_CBAgDZU"
      },
      "outputs": [],
      "execution_count": null
    },
    {
      "cell_type": "code",
      "source": [
        "len(select_cols)"
      ],
      "metadata": {
        "execution": {
          "iopub.status.busy": "2025-01-27T01:15:23.811847Z",
          "iopub.execute_input": "2025-01-27T01:15:23.812226Z",
          "iopub.status.idle": "2025-01-27T01:15:23.819114Z",
          "shell.execute_reply.started": "2025-01-27T01:15:23.812194Z",
          "shell.execute_reply": "2025-01-27T01:15:23.817804Z"
        },
        "trusted": true,
        "id": "m6e4N8CzgDZU"
      },
      "outputs": [],
      "execution_count": null
    },
    {
      "cell_type": "code",
      "source": [
        "#Use columns to be features of train data.\n",
        "df_temp = df_train[select_cols]\n",
        "\n",
        "df_temp = df_temp.loc[:,~df_temp.columns.duplicated()]"
      ],
      "metadata": {
        "execution": {
          "iopub.status.busy": "2025-01-27T01:15:23.820643Z",
          "iopub.execute_input": "2025-01-27T01:15:23.821019Z",
          "iopub.status.idle": "2025-01-27T01:15:23.840609Z",
          "shell.execute_reply.started": "2025-01-27T01:15:23.82099Z",
          "shell.execute_reply": "2025-01-27T01:15:23.839129Z"
        },
        "trusted": true,
        "id": "_CYfoEYhgDZV"
      },
      "outputs": [],
      "execution_count": null
    },
    {
      "cell_type": "markdown",
      "source": [
        "## Data Preparation"
      ],
      "metadata": {
        "id": "3oM8LbsigDZV"
      }
    },
    {
      "cell_type": "code",
      "source": [
        "ax = df_temp['PotentialFraud'].value_counts().plot.pie(explode=[0.1,0.1],autopct='%1.1f%%',shadow=True, colors=['#FF5E5B', '#4F6272'],textprops = {'fontsize':11}).set_title(\"Fraud distribution\",  fontsize = 15)\n",
        "plt.ylabel('')\n",
        "plt.show()\n",
        "\n",
        "plt.show()"
      ],
      "metadata": {
        "execution": {
          "iopub.status.busy": "2025-01-27T01:15:23.842352Z",
          "iopub.execute_input": "2025-01-27T01:15:23.842922Z",
          "iopub.status.idle": "2025-01-27T01:15:24.012118Z",
          "shell.execute_reply.started": "2025-01-27T01:15:23.84287Z",
          "shell.execute_reply": "2025-01-27T01:15:24.010763Z"
        },
        "trusted": true,
        "id": "XavGdkEcgDZV"
      },
      "outputs": [],
      "execution_count": null
    },
    {
      "cell_type": "code",
      "source": [
        "#Check data if any null columns\n",
        "df_temp.isna().sum()"
      ],
      "metadata": {
        "execution": {
          "iopub.status.busy": "2025-01-27T01:15:24.013337Z",
          "iopub.execute_input": "2025-01-27T01:15:24.013704Z",
          "iopub.status.idle": "2025-01-27T01:15:24.024578Z",
          "shell.execute_reply.started": "2025-01-27T01:15:24.013671Z",
          "shell.execute_reply": "2025-01-27T01:15:24.023399Z"
        },
        "trusted": true,
        "id": "J5yugFEtgDZV"
      },
      "outputs": [],
      "execution_count": null
    },
    {
      "cell_type": "code",
      "source": [
        "# split data into features and target and then train and test.\n",
        "df_temp[\"PotentialFraud\"] = df_temp[\"PotentialFraud\"].map({\"Yes\" : 1,\"No\" : 0})\n",
        "X_train_val = df_temp.drop(columns = \"PotentialFraud\")\n",
        "y_train_val = df_temp[\"PotentialFraud\"]\n",
        "\n",
        "\n",
        "#Use columns to be features of test data.\n",
        "select_test = [i for i in select_cols if i != 'PotentialFraud'] + [\"Provider\"]\n",
        "test = df_test[select_test]\n",
        "test = test.loc[:,~test.columns.duplicated()]\n",
        "\n",
        "id_test = test[[\"Provider\"]]\n",
        "X_input = test.drop(columns = [\"Provider\"], axis = 1)\n"
      ],
      "metadata": {
        "execution": {
          "iopub.status.busy": "2025-01-27T01:15:24.025933Z",
          "iopub.execute_input": "2025-01-27T01:15:24.026325Z",
          "iopub.status.idle": "2025-01-27T01:15:24.050948Z",
          "shell.execute_reply.started": "2025-01-27T01:15:24.026278Z",
          "shell.execute_reply": "2025-01-27T01:15:24.049433Z"
        },
        "trusted": true,
        "id": "X-j-M-tRgDZV"
      },
      "outputs": [],
      "execution_count": null
    },
    {
      "cell_type": "code",
      "source": [
        "#check outlier\n",
        "\n",
        "num_cols = [i for i in X_train_val.columns if X_train_val[i].dtypes == 'float64' or X_train_val[i].dtypes == 'int64' if i[:11] != 'ChronicCond']\n",
        "\n",
        "for feature in df_temp[num_cols]:\n",
        "    df_temp[feature].plot(kind='box', notch=True, patch_artist=True)\n",
        "    plt.show();"
      ],
      "metadata": {
        "execution": {
          "iopub.status.busy": "2025-01-27T01:15:24.052674Z",
          "iopub.execute_input": "2025-01-27T01:15:24.053221Z",
          "iopub.status.idle": "2025-01-27T01:15:25.823886Z",
          "shell.execute_reply.started": "2025-01-27T01:15:24.053173Z",
          "shell.execute_reply": "2025-01-27T01:15:25.822503Z"
        },
        "trusted": true,
        "id": "fO75q6aHgDZV"
      },
      "outputs": [],
      "execution_count": null
    },
    {
      "cell_type": "code",
      "source": [
        "num_cols = [i for i in X_train_val.columns if X_train_val[i].dtypes == 'float64' or X_train_val[i].dtypes == 'int64']\n",
        "\n",
        "\n",
        "\n",
        "num_transform = Pipeline([\n",
        "                                    (\"scaler\", RobustScaler())\n",
        "])\n",
        "\n",
        "\n",
        "prep_pipeline =  ColumnTransformer([\n",
        "    ('num trans', num_transform, num_cols)\n",
        "])\n",
        "\n",
        ""
      ],
      "metadata": {
        "execution": {
          "iopub.status.busy": "2025-01-27T01:15:25.825284Z",
          "iopub.execute_input": "2025-01-27T01:15:25.825701Z",
          "iopub.status.idle": "2025-01-27T01:15:25.831746Z",
          "shell.execute_reply.started": "2025-01-27T01:15:25.825665Z",
          "shell.execute_reply": "2025-01-27T01:15:25.830537Z"
        },
        "trusted": true,
        "id": "6ThTj7aMgDZV"
      },
      "outputs": [],
      "execution_count": null
    },
    {
      "cell_type": "markdown",
      "source": [
        "# Modeling"
      ],
      "metadata": {
        "id": "8DsB6axqgDZV"
      }
    },
    {
      "cell_type": "markdown",
      "source": [
        "# Logistic Regression"
      ],
      "metadata": {
        "id": "2-u6StFpgDZV"
      }
    },
    {
      "cell_type": "code",
      "source": [
        "model_lr = imbpipeline([\n",
        "    ('prep', prep_pipeline),\n",
        "    ('smote', SMOTE(sampling_strategy = 'minority')),\n",
        "    ('poly', PolynomialFeatures(degree=2, include_bias=False)),\n",
        "    ('lr',LogisticRegression(random_state = 0))\n",
        "])"
      ],
      "metadata": {
        "execution": {
          "iopub.status.busy": "2025-01-27T01:15:25.83308Z",
          "iopub.execute_input": "2025-01-27T01:15:25.833474Z",
          "iopub.status.idle": "2025-01-27T01:15:25.852956Z",
          "shell.execute_reply.started": "2025-01-27T01:15:25.833438Z",
          "shell.execute_reply": "2025-01-27T01:15:25.851667Z"
        },
        "trusted": true,
        "id": "IH_k-928gDZV"
      },
      "outputs": [],
      "execution_count": null
    },
    {
      "cell_type": "markdown",
      "source": [
        "# Random Forest"
      ],
      "metadata": {
        "id": "-iwkM2XYgDZV"
      }
    },
    {
      "cell_type": "code",
      "source": [
        "model_rf = imbpipeline([\n",
        "    ('prep', prep_pipeline),\n",
        "    ('smote', SMOTE(sampling_strategy='not majority')),  # Less effective oversampling\n",
        "    ('rf', RandomForestClassifier(\n",
        "        random_state=0,\n",
        "        n_estimators=10,          # Reduce number of trees\n",
        "        max_depth=3,               # Shallow trees\n",
        "        max_features='sqrt',       # Fewer features per split\n",
        "        min_samples_split=10,      # More samples needed to split\n",
        "        min_samples_leaf=5,        # Larger minimum leaf size\n",
        "        max_samples=0.5            # Use only half the data per tree\n",
        "    ))\n",
        "])"
      ],
      "metadata": {
        "trusted": true,
        "execution": {
          "iopub.status.busy": "2025-01-27T01:15:25.854526Z",
          "iopub.execute_input": "2025-01-27T01:15:25.854929Z",
          "iopub.status.idle": "2025-01-27T01:15:25.872046Z",
          "shell.execute_reply.started": "2025-01-27T01:15:25.854895Z",
          "shell.execute_reply": "2025-01-27T01:15:25.870575Z"
        },
        "id": "pKGI4CmYgDZV"
      },
      "outputs": [],
      "execution_count": null
    },
    {
      "cell_type": "markdown",
      "source": [
        "# Decision Tree"
      ],
      "metadata": {
        "id": "-E4GGzlwgDZV"
      }
    },
    {
      "cell_type": "code",
      "source": [
        "model_dt = imbpipeline([\n",
        "    ('prep', prep_pipeline),\n",
        "    ('smote', SMOTE(sampling_strategy='minority', k_neighbors=1, random_state=42)),  # More conservative SMOTE\n",
        "    ('dt', DecisionTreeClassifier(\n",
        "        criterion='entropy',            # Capture more informative splits\n",
        "        max_depth=30,                    # Allow deeper splits for better fitting\n",
        "        min_samples_split=5,              # Lower for finer splits\n",
        "        min_samples_leaf=2,               # Smaller leaf nodes for better granularity\n",
        "        max_features=None,                # Use all features to increase accuracy\n",
        "        class_weight=None,                 # Let the tree learn weights naturally\n",
        "        splitter='best',                   # Choose the best split for accuracy\n",
        "        random_state=42\n",
        "    ))\n",
        "])"
      ],
      "metadata": {
        "trusted": true,
        "execution": {
          "iopub.status.busy": "2025-01-27T01:15:25.873476Z",
          "iopub.execute_input": "2025-01-27T01:15:25.873998Z",
          "iopub.status.idle": "2025-01-27T01:15:25.897388Z",
          "shell.execute_reply.started": "2025-01-27T01:15:25.873924Z",
          "shell.execute_reply": "2025-01-27T01:15:25.895901Z"
        },
        "id": "eyaRfHUSgDZV"
      },
      "outputs": [],
      "execution_count": null
    },
    {
      "cell_type": "markdown",
      "source": [
        "# Naive Bayes"
      ],
      "metadata": {
        "id": "Z83rADRTgDZW"
      }
    },
    {
      "cell_type": "code",
      "source": [
        "model_nb = imbpipeline([\n",
        "    ('prep', prep_pipeline),\n",
        "    ('poly', PolynomialFeatures(degree=1)),\n",
        "    ('nb', GaussianNB(var_smoothing=1e6))\n",
        "])"
      ],
      "metadata": {
        "trusted": true,
        "execution": {
          "iopub.status.busy": "2025-01-27T01:15:25.904443Z",
          "iopub.execute_input": "2025-01-27T01:15:25.905059Z",
          "iopub.status.idle": "2025-01-27T01:15:25.914482Z",
          "shell.execute_reply.started": "2025-01-27T01:15:25.904933Z",
          "shell.execute_reply": "2025-01-27T01:15:25.913216Z"
        },
        "id": "K3DqbULngDZW"
      },
      "outputs": [],
      "execution_count": null
    },
    {
      "cell_type": "markdown",
      "source": [
        "# Evaluation"
      ],
      "metadata": {
        "id": "7VCENCoIgDZW"
      }
    },
    {
      "cell_type": "code",
      "source": [
        "def model_evaluation_cv(model, metric):\n",
        "    skfold = StratifiedKFold(n_splits = 5)\n",
        "    model_cv = cross_val_score(model, X_train_val, y_train_val, cv = skfold, scoring = metric)\n",
        "    avg_accuracy = model_cv.mean()\n",
        "    return avg_accuracy\n",
        "\n",
        "print('Accuracy Score Evaluation of Naive Bayes : ', model_evaluation_cv(model_nb, 'accuracy'))\n",
        "print('Accuracy Score Evaluation of Random Forest : ', model_evaluation_cv(model_rf, 'accuracy'))\n",
        "print('Accuracy Score Evaluation of Decision Tree : ', model_evaluation_cv(model_dt, 'accuracy'))\n",
        "print('Accuracy Score Evaluation of Logistic Regression : ', model_evaluation_cv(model_lr, 'accuracy'))\n",
        "\n"
      ],
      "metadata": {
        "execution": {
          "iopub.status.busy": "2025-01-27T01:15:25.916342Z",
          "iopub.execute_input": "2025-01-27T01:15:25.916826Z",
          "iopub.status.idle": "2025-01-27T01:15:29.815909Z",
          "shell.execute_reply.started": "2025-01-27T01:15:25.916773Z",
          "shell.execute_reply": "2025-01-27T01:15:29.8144Z"
        },
        "trusted": true,
        "id": "npkxXAXQgDZW"
      },
      "outputs": [],
      "execution_count": null
    }
  ]
}